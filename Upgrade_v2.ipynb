{
 "cells": [
  {
   "cell_type": "code",
   "execution_count": 1,
   "id": "4b022156-a720-478f-8c81-3f20a1a6d58c",
   "metadata": {},
   "outputs": [],
   "source": [
    "from sqlalchemy.ext.automap import automap_base\n",
    "from sqlalchemy.orm import Session\n",
    "from sqlalchemy import create_engine,MetaData\n",
    "from sqlalchemy import select,Table          #Needed for selecting data not mapping the Db\n",
    "from sqlalchemy.sql import text        #Needed for clearing BMS\n",
    "\n",
    "metadata = MetaData()\n",
    "Base = automap_base(metadata=metadata)\n",
    "\n",
    "# point the connection string to the database\n",
    "CONN_STR = 'sqlite:///Qso.db'\n",
    "engine = create_engine(CONN_STR)\n",
    "session = Session(engine)\n",
    "# reflect the tables\n",
    "Base.prepare(autoload_with=engine)\n",
    "# Now create an Alias to make the code look a little cleaner\n",
    "# We want to have a look at 2 tables. Logbook and dxlist\n",
    "Logbook = Base.classes.logbook\n",
    "Dxlist  = Base.classes.dxlist\n",
    "Band    = Base.classes.Band\n",
    "Mode    = Base.classes.Mode\n",
    "Status  = Base.classes.Status\n",
    "BMS     = Base.classes.BMS\n",
    "# \n",
    "# As a View does not have a Primary key - SqlAlchemy is unable to reflect(\"Auto Add\")\n",
    "# But we can pretend the View is a table \n",
    "# These tables will not appear in Metadata\n",
    "#\n",
    "dxcc_status      = Table(\"dxcc_status\", metadata, autoload_with=engine)\n",
    "CONFIRMED_VIEW   = Table(\"CONFIRMED_VIEW\", metadata, autoload_with=engine)\n",
    "UNCONFIRMED_VIEW = Table(\"UNCONFIRMED_VIEW\", metadata, autoload_with=engine)\n",
    "\n"
   ]
  },
  {
   "cell_type": "code",
   "execution_count": 2,
   "id": "d614b99e-554b-4f40-8980-0bce7c3cb2fc",
   "metadata": {},
   "outputs": [
    {
     "name": "stdout",
     "output_type": "stream",
     "text": [
      "Metadata BMS\n",
      "Metadata Band\n",
      "Metadata Status\n",
      "Metadata dxlist\n",
      "Metadata Mode\n",
      "Metadata data\n",
      "Metadata logbook\n",
      "Metadata prefs\n",
      "Metadata dxcc_status\n",
      "Metadata CONFIRMED_VIEW\n",
      "Metadata UNCONFIRMED_VIEW\n",
      "Mapped <class 'sqlalchemy.ext.automap.dxlist'>\n",
      "Mapped <class 'sqlalchemy.ext.automap.Mode'>\n",
      "Mapped <class 'sqlalchemy.ext.automap.prefs'>\n",
      "Mapped <class 'sqlalchemy.ext.automap.Status'>\n",
      "Mapped <class 'sqlalchemy.ext.automap.logbook'>\n",
      "Mapped <class 'sqlalchemy.ext.automap.data'>\n",
      "Mapped <class 'sqlalchemy.ext.automap.Band'>\n",
      "Mapped <class 'sqlalchemy.ext.automap.BMS'>\n"
     ]
    }
   ],
   "source": [
    "for mdtable in metadata.tables:\n",
    "    print(\"Metadata\", mdtable)\n",
    "\n",
    "for mappedclass in Base.classes:\n",
    "    print (\"Mapped\",mappedclass)"
   ]
  },
  {
   "cell_type": "code",
   "execution_count": 3,
   "id": "328d0c7e-9788-4393-bf6a-2a876f2d6e5e",
   "metadata": {},
   "outputs": [
    {
     "name": "stdout",
     "output_type": "stream",
     "text": [
      "Checking View DXCC_STATUS columns\n"
     ]
    },
    {
     "data": {
      "text/plain": [
       "[Column('dxcc', VARCHAR(), table=<dxcc_status>),\n",
       " Column('dxccadif', INTEGER(), table=<dxcc_status>),\n",
       " Column('mid', INTEGER(), table=<dxcc_status>),\n",
       " Column('mode', VARCHAR(), table=<dxcc_status>),\n",
       " Column('sid', INTEGER(), table=<dxcc_status>),\n",
       " Column('name', VARCHAR(), table=<dxcc_status>),\n",
       " Column('lotwqsl', VARCHAR(), table=<dxcc_status>),\n",
       " Column('band', VARCHAR(), table=<dxcc_status>)]"
      ]
     },
     "execution_count": 3,
     "metadata": {},
     "output_type": "execute_result"
    }
   ],
   "source": [
    "# Lets just check we see all the fields in a View\n",
    "print(\"Checking View DXCC_STATUS columns\")\n",
    "list(dxcc_status.columns)"
   ]
  },
  {
   "cell_type": "markdown",
   "id": "4193d68c-41ea-4f1b-bb2a-a7ac3587d42b",
   "metadata": {},
   "source": [
    "# Populate BMS\n",
    "\n",
    "We need to create a Record for each Band/Mode/DX \n",
    "\n",
    "By default we will assume that all BMS are not worked."
   ]
  },
  {
   "cell_type": "code",
   "execution_count": 4,
   "id": "ebb0a644-f1a6-47ec-8b79-9fbb122d7dff",
   "metadata": {},
   "outputs": [],
   "source": [
    "bs = session.execute(select(Band.bid)).all()\n",
    "\n",
    "ms = session.execute(select(Mode.mid)).all()\n",
    "ms=list(set(list(ms))) # This makes the mid values UNIQUE\n",
    "\n",
    "ss = session.execute(select(Status.sid).where(Status.name == \"NOT WORKED\")).all()\n",
    "# We now need the DXCC ID's \n",
    "dxi = session.execute(select(Dxlist.dxccadif,Dxlist.dxcc)).all()"
   ]
  },
  {
   "cell_type": "code",
   "execution_count": 5,
   "id": "defdff97-9c68-455d-9225-5c5c31222870",
   "metadata": {},
   "outputs": [
    {
     "name": "stdout",
     "output_type": "stream",
     "text": [
      "BMS was truncated\n",
      "We have 15756 objects to Add.\n"
     ]
    }
   ],
   "source": [
    "# We will create a List of BMS objects - then add using the Session build add.\n",
    "\n",
    "session.execute(text('DELETE FROM BMS'))\n",
    "session.commit()\n",
    "print(\"BMS was truncated\")\n",
    "ToAdd=[]\n",
    "for b in bs:\n",
    "    for m in ms:\n",
    "        for s in ss:\n",
    "            for d in dxi:\n",
    "              ToAdd.append(BMS(bid=b[0],mid=m[0],sid=s[0],dxccadif=d[0]))\n",
    "print(f\"We have {len(ToAdd)} objects to Add.\")\n",
    "session.add_all(ToAdd)\n",
    "session.commit()"
   ]
  },
  {
   "cell_type": "code",
   "execution_count": 6,
   "id": "6c71f749-b757-4a3e-8dc2-2b637f731bd0",
   "metadata": {},
   "outputs": [
    {
     "name": "stdout",
     "output_type": "stream",
     "text": [
      "We have 36468 Non Confirmed in Total\n",
      "We have 2136 Unique Non Confirmed records\n"
     ]
    },
    {
     "name": "stderr",
     "output_type": "stream",
     "text": [
      "/var/folders/ds/nkj_bsw113d71_zp8k3rt4t80000gn/T/ipykernel_1247/2060111363.py:6: SAWarning: SELECT statement has a cartesian product between FROM element(s) \"logbook\", \"Mode\" and FROM element \"Status\".  Apply join condition(s) between each element to resolve.\n",
      "  non_confirmed_result = session.execute(stmt).all()\n"
     ]
    }
   ],
   "source": [
    "# We will now get all the Sent but not Confirmed (Ignoring for the moment) \n",
    "# For Band/Mode/DXCC \n",
    "# The SQL is this \n",
    "#     select  distinct l.dxccadif, m.mid,l.mode,s.sid,s.name , l.lotwqsl, l.band  from logbook l ,Mode m, Status s, Band b  where m.name=l.mode and b.name=l.band and s.code = l.lotwqsl and s.name=\"NOT CONFIRMED\";\n",
    "stmt = select(Logbook.dxccadif, Logbook.band, Logbook.mode,Status.name,Logbook.lotwqsl, Status.sid, Mode.mid).where(Mode.name == Logbook.mode and Band.name == Logbook.band and Status.code == Logbook.lotqsql and Status.name ==\"NOT CONFIRMED\" )\n",
    "non_confirmed_result = session.execute(stmt).all()\n",
    "print(f\"We have {len(non_confirmed_result)} Non Confirmed in Total\")\n",
    "\n",
    "#Sqlalchemy does not appear to like the .distinct(fld,fld) clause.... so we \n",
    "#will make these records unique using python\n",
    "#Cast data to a set and then back to a list\n",
    "\n",
    "unique_non_confirmed = list(set(non_confirmed_result))\n",
    "print(f\"We have {len(unique_non_confirmed)} Unique Non Confirmed records\")"
   ]
  },
  {
   "cell_type": "code",
   "execution_count": 6,
   "id": "4b7b978b-945f-4a07-800a-c5ecd46b25ca",
   "metadata": {},
   "outputs": [
    {
     "data": {
      "text/plain": [
       "[(1,), (2,), (3,)]"
      ]
     },
     "execution_count": 6,
     "metadata": {},
     "output_type": "execute_result"
    }
   ],
   "source": [
    "ms = session.execute(select(Mode.mid)).all()\n",
    "list(set(list(ms)))"
   ]
  },
  {
   "cell_type": "code",
   "execution_count": null,
   "id": "51e67054-6121-40d1-8fbb-f84adced3a62",
   "metadata": {},
   "outputs": [],
   "source": [
    "list(set(non_confirmed_result.all()))"
   ]
  },
  {
   "cell_type": "code",
   "execution_count": 7,
   "id": "ac4f957d-c099-4bc0-ac31-da3d816635f5",
   "metadata": {},
   "outputs": [
    {
     "data": {
      "text/plain": [
       "[(0,)]"
      ]
     },
     "execution_count": 7,
     "metadata": {},
     "output_type": "execute_result"
    }
   ],
   "source": [
    "ss"
   ]
  },
  {
   "cell_type": "code",
   "execution_count": null,
   "id": "77ab6397-3e26-4eaa-a44a-a3317d265fd9",
   "metadata": {},
   "outputs": [],
   "source": []
  }
 ],
 "metadata": {
  "kernelspec": {
   "display_name": "pe310",
   "language": "python",
   "name": "pe310"
  },
  "language_info": {
   "codemirror_mode": {
    "name": "ipython",
    "version": 3
   },
   "file_extension": ".py",
   "mimetype": "text/x-python",
   "name": "python",
   "nbconvert_exporter": "python",
   "pygments_lexer": "ipython3",
   "version": "3.10.13"
  }
 },
 "nbformat": 4,
 "nbformat_minor": 5
}
